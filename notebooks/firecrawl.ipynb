{
 "cells": [
  {
   "cell_type": "code",
   "execution_count": null,
   "metadata": {},
   "outputs": [],
   "source": [
    "from dotenv import load_dotenv\n",
    "from firecrawl import FirecrawlApp\n",
    "import os\n",
    "\n",
    "# Load environment variables\n",
    "load_dotenv()\n",
    "\n",
    "def scrap_url(url: str, formats: list = [\"markdown\", \"html\"]) -> dict:\n",
    "    \"\"\"\n",
    "    Scrape a website using the FirecrawlApp.\n",
    "\n",
    "    Args:\n",
    "        url (str): The URL of the website to scrape.\n",
    "        formats (list): The formats to scrape. Defaults to ['markdown', 'html'].\n",
    "\n",
    "    Returns:\n",
    "        dict: The scrape status returned by FirecrawlApp.\n",
    "    \"\"\"\n",
    "    api_key = os.getenv(\"FIRECRAWL_API_KEY\")\n",
    "    print(api_key)\n",
    "    if not api_key:\n",
    "        raise ValueError(\"FIRECRAWL_API_KEY environment variable not set\")\n",
    "    app = FirecrawlApp(api_key=api_key)\n",
    "    scrape_status = app.scrape_url(url, params={\"formats\": formats})\n",
    "    return scrape_status"
   ]
  },
  {
   "cell_type": "code",
   "execution_count": null,
   "metadata": {},
   "outputs": [],
   "source": [
    "def scrap_url_clean(url: str) -> str:\n",
    "    \"\"\"\n",
    "    Wrapper method that scrapes a URL and extracts the content as a single string from the HTML body.\n",
    "\n",
    "    Args:\n",
    "        url (str): The URL of the website to scrape.\n",
    "\n",
    "    Returns:\n",
    "        str: A single string containing all the extracted content.\n",
    "    \"\"\"\n",
    "    scrape_result = scrap_url(url)\n",
    "\n",
    "    return scrape_result[\"markdown\"]"
   ]
  },
  {
   "cell_type": "code",
   "execution_count": null,
   "metadata": {},
   "outputs": [],
   "source": [
    "response = scrap_url_clean('https://centraltexasanxiety.com/')\n",
    "\n",
    "print(response)"
   ]
  }
 ],
 "metadata": {
  "kernelspec": {
   "display_name": ".venv",
   "language": "python",
   "name": "python3"
  },
  "language_info": {
   "codemirror_mode": {
    "name": "ipython",
    "version": 3
   },
   "file_extension": ".py",
   "mimetype": "text/x-python",
   "name": "python",
   "nbconvert_exporter": "python",
   "pygments_lexer": "ipython3",
   "version": "3.12.7"
  },
  "orig_nbformat": 4
 },
 "nbformat": 4,
 "nbformat_minor": 2
}
